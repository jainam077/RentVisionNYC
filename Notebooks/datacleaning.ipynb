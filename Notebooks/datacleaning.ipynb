{
 "cells": [
  {
   "cell_type": "markdown",
   "id": "6f2835fb",
   "metadata": {},
   "source": [
    "Airbnb OpenData Cleaning - RentVisionNYC\n"
   ]
  },
  {
   "cell_type": "code",
   "execution_count": null,
   "id": "a45cfc4b",
   "metadata": {},
   "outputs": [],
   "source": [
    "# --- Imports ---\n",
    "import pandas as pd\n",
    "import numpy as np\n",
    "import os\n"
   ]
  },
  {
   "cell_type": "code",
   "execution_count": null,
   "id": "442135ed",
   "metadata": {},
   "outputs": [],
   "source": [
    "# --- Load Dataset ---\n",
    "data_path = \"/Users/jainam/Downloads/Class_Fall_25/FDS/RentVisionNYC/Airbnb_Dataset/rawdata/Airbnb_Open_Data.csv\"\n",
    "data = pd.read_csv(data_path)\n",
    "print(\"Dataset loaded successfully!\")\n",
    "print(\"Shape:\", data.shape)\n",
    "\n",
    "# --- Initial Inspection ---\n",
    "print(\"\\nColumns:\\n\", data.columns)\n",
    "data.info()\n"
   ]
  },
  {
   "cell_type": "code",
   "execution_count": null,
   "metadata": {},
   "outputs": [],
   "source": [
    "# Airbnb NYC Data Cleaning - RentVisionNYC Project\n",
    "# Author: Jainam Jain\n",
    "\n",
    "# --- Drop Redundant or Unnecessary Columns ---\n",
    "columns_to_drop = [\n",
    "    'reviews per month', 'review rate number', 'calculated host listings count',\n",
    "    'availability 365', 'house_rules', 'license', 'id'\n",
    "]\n",
    "\n",
    "data.drop(columns=columns_to_drop, inplace=True, errors='ignore')\n",
    "\n",
    "# --- Rename Columns for Consistency ---\n",
    "data.rename(columns={\"NAME\": \"Name\"}, inplace=True)\n",
    "data.columns = data.columns.str.strip().str.lower().str.replace(' ', '_')\n",
    "\n",
    "# --- Remove Duplicates ---\n",
    "duplicates_before = data.duplicated().sum()\n",
    "data.drop_duplicates(inplace=True)\n",
    "print(f\"\\nRemoved {duplicates_before} duplicate rows.\")\n",
    "\n",
    "# --- Handle Missing Values ---\n",
    "print(\"\\nMissing values before cleaning:\\n\", data.isna().sum())\n",
    "if 'last_review' in data.columns:\n",
    "    data.drop(columns=['last_review'], inplace=True, errors='ignore')\n",
    "data.dropna(inplace=True)\n",
    "print(\"\\nMissing values after cleaning:\\n\", data.isna().sum())\n",
    "\n",
    "# --- Clean and Convert Data Types ---\n",
    "# Clean price column\n",
    "if 'price' in data.columns:\n",
    "    data['price'] = data['price'].astype(str)\n",
    "    data['price'] = data['price'].str.replace(\"$\", \"\", regex=False)\n",
    "    data['price'] = data['price'].str.replace(\",\", \"\", regex=False)\n",
    "    data['price'] = pd.to_numeric(data['price'], errors='coerce')\n",
    "\n",
    "# Convert instant_bookable to numeric\n",
    "if 'instant_bookable' in data.columns:\n",
    "    data['instant_bookable'] = data['instant_bookable'].apply(lambda x: 1 if x is True or str(x).lower() == 't' else 0)\n",
    "\n",
    "# Standardize host verification column\n",
    "if 'host_identity_verified' in data.columns:\n",
    "    data['host_identity_verified'] = data['host_identity_verified'].astype(str).str.upper()\n",
    "\n",
    "# --- Feature Engineering ---\n",
    "if 'minimum_nights' in data.columns:\n",
    "    data['price_per_night'] = data['price'] / data['minimum_nights']\n",
    "\n",
    "# Neighborhood-level aggregation (optional future feature)\n",
    "# Example: listing_density per neighborhood\n",
    "if 'neighbourhood' in data.columns:\n",
    "    density = data.groupby('neighbourhood')['name'].count().rename('listing_density')\n",
    "    data = data.merge(density, on='neighbourhood', how='left')\n",
    "\n",
    "# --- Reset Index ---\n",
    "data.reset_index(drop=True, inplace=True)\n",
    "\n",
    "# --- Save Cleaned Dataset ---\n",
    "output_dir = \"/Users/jainam/Downloads/Class_Fall_25/FDS/RentVisionNYC/Airbnb_Dataset/processeddata\"\n",
    "os.makedirs(output_dir, exist_ok=True)\n",
    "output_path = os.path.join(output_dir, \"nyc_airbnb_clean.csv\")\n",
    "data.to_csv(output_path, index=False)\n",
    "\n",
    "print(f\"\\n Data cleaned and saved successfully at:\\n{output_path}\")\n",
    "print(\"Final shape:\", data.shape)\n"
   ]
  }
 ],
 "metadata": {
  "kernelspec": {
   "display_name": ".venv",
   "language": "python",
   "name": "python3"
  },
  "language_info": {
   "codemirror_mode": {
    "name": "ipython",
    "version": 3
   },
   "file_extension": ".py",
   "mimetype": "text/x-python",
   "name": "python",
   "nbconvert_exporter": "python",
   "pygments_lexer": "ipython3",
   "version": "3.12.0"
  }
 },
 "nbformat": 4,
 "nbformat_minor": 5
}
